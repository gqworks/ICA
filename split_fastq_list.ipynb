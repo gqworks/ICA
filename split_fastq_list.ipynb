{
 "cells": [
  {
   "cell_type": "code",
   "execution_count": 7,
   "id": "f847806d-e0c7-45df-befd-ac559aa53823",
   "metadata": {},
   "outputs": [],
   "source": [
    "import pandas as pd\n",
    "import numpy as np"
   ]
  },
  {
   "cell_type": "code",
   "execution_count": 8,
   "id": "36ed3f1d-2df9-4d44-9e01-1d51dd716cad",
   "metadata": {},
   "outputs": [],
   "source": [
    "all_fastq_list = pd.read_csv(\"all_fastqlist.csv\") #path to all_fastqlist file\n",
    "uniq_RGSM = all_fastq_list.RGSM.unique()"
   ]
  },
  {
   "cell_type": "code",
   "execution_count": 9,
   "id": "fe47d4ec-cbf4-4d52-89c7-d7386ccd2143",
   "metadata": {},
   "outputs": [],
   "source": [
    "for RGSM in uniq_RGSM:\n",
    "    subset = all_fastq_list.loc[all_fastq_list.RGSM==RGSM,]\n",
    "    subset.to_csv(f'fastq_lists/{RGSM}_fastq_list.csv',index = False) #make sure you have a folder called fastq_lists created in your working directory"
   ]
  },
  {
   "cell_type": "code",
   "execution_count": null,
   "id": "e5277603-43d8-4fe5-b25d-7008be1a1baf",
   "metadata": {},
   "outputs": [],
   "source": []
  }
 ],
 "metadata": {
  "kernelspec": {
   "display_name": "Python 3 (ipykernel)",
   "language": "python",
   "name": "python3"
  },
  "language_info": {
   "codemirror_mode": {
    "name": "ipython",
    "version": 3
   },
   "file_extension": ".py",
   "mimetype": "text/x-python",
   "name": "python",
   "nbconvert_exporter": "python",
   "pygments_lexer": "ipython3",
   "version": "3.12.3"
  }
 },
 "nbformat": 4,
 "nbformat_minor": 5
}
