{
 "cells": [
  {
   "cell_type": "code",
   "execution_count": 2,
   "id": "5dc985da-02f2-45de-b58c-3aaa1587eb5f",
   "metadata": {},
   "outputs": [],
   "source": [
    "import os\n",
    "import subprocess\n",
    "import pandas as pd\n",
    "import numpy as np\n",
    "import re"
   ]
  },
  {
   "cell_type": "code",
   "execution_count": 101,
   "id": "3098a3a2-a9d8-4d5d-8401-a8b4c5c910fd",
   "metadata": {},
   "outputs": [],
   "source": [
    "# Initialise job parameters\n",
    "target_project_NAME = \"Second_Complete_data_RESTRICTED\" #Project name, case sensitive, must be exact.\n",
    "target_pipeline_CODE = \"DRAGEN Germline Whole Genome 4-2-4-v2\" #Remains fixed for this script. Need to modify DRAGEN parameters if changed\n",
    "out_folder_NAME = 'germline' #folder needs to exist prior to running\n",
    "fastq_list = pd.read_csv(\"all_fastqlist.csv\") #Need locate copy to map sample names to fastq file names on ICA\n",
    "RGSM = \"PK6_Fibro\" #Sample name\n",
    "run_name = f\"{RGSM}_CLI\" #Can customise if needed\n",
    "storage_size = \"Medium\" #Run storage size"
   ]
  },
  {
   "cell_type": "code",
   "execution_count": 102,
   "id": "87a1801a-f791-4326-a59a-51cb4cf1a7f9",
   "metadata": {},
   "outputs": [],
   "source": [
    "# Enter projects\n",
    "projects_request = subprocess.run(['icav2', 'projects', 'list'], stdout=subprocess.PIPE)\n",
    "project_table = [x.split('\\t') for x in projects_request.stdout.decode('utf-8').split('\\n')][1:-2] # Remove Messy Header and last 2 unnessecary rows\n",
    "project_table = pd.DataFrame(project_table, columns=['ID','NAME','OWNER','Other'])\n",
    "project_table.NAME = [x.rstrip() for x in project_table.NAME.to_list()]\n",
    "target_project_ID = project_table.loc[project_table.NAME==target_project_NAME,\"ID\"].item()"
   ]
  },
  {
   "cell_type": "code",
   "execution_count": 103,
   "id": "f7f22637-d9d0-4f6f-acb5-ef76a015b092",
   "metadata": {},
   "outputs": [],
   "source": [
    "#Get pipeline ID\n",
    "subprocess.call(['icav2','projects','enter',target_project_NAME])\n",
    "pipelines_request = subprocess.run(['icav2','projectpipelines','list'], stdout=subprocess.PIPE)\n",
    "pipeline_table = [x.split('\\t') for x in pipelines_request.stdout.decode('utf-8').split('\\n')][1:-2] # Remove Messy Header and last 2 unnessecary rows\n",
    "pipeline_table = pd.DataFrame(pipeline_table, columns=['ID','CODE','DESCRIPTION','Other'])\n",
    "target_pipeline_ID = pipeline_table.loc[pipeline_table.CODE.str.contains(target_pipeline_CODE),\"ID\"].item()\n",
    "\n",
    "#Fixed Reference genome ID\n",
    "reference_ID = \"fil.05c5aae95c6b456c366f08db3aac4879\" #Hg38 Alt-Maksed v3, Graph Enabled)\n",
    "\n",
    "# Get out folder ID\n",
    "out_folder_request = subprocess.run(f\"icav2 projectdata list --data-type FOLDER --file-name {out_folder_NAME}\", shell = True, stdout=subprocess.PIPE)\n",
    "out_folder_ID = [x.split('\\t') for x in out_folder_request.stdout.decode('utf-8').split('\\n')][1][3]"
   ]
  },
  {
   "cell_type": "code",
   "execution_count": 104,
   "id": "bd9ff446-03c2-47ef-9557-a8800625b03c",
   "metadata": {},
   "outputs": [],
   "source": [
    "# Get Fastq list ID\n",
    "fastq_list_request = subprocess.run(f\"icav2 projectdata list --data-type FILE --match-mode FUZZY --file-name fastq_list\", shell = True, stdout=subprocess.PIPE)\n",
    "fastq_list_table = [x.split('\\t') for x in fastq_list_request.stdout.decode('utf-8').split('\\n')][1:-2]\n",
    "fastq_list_table = pd.DataFrame(fastq_list_table, columns=['NAME','TYPE','STATUS','ID','OWNING','PROJECT ID','PATH','Other'])\n",
    "fastq_list_table = fastq_list_table.loc[fastq_list_table.OWNING==target_project_NAME,]\n",
    "fastq_list_table.NAME = [x.rstrip() for x in fastq_list_table.NAME.to_list()]\n",
    "fastq_list_ID = fastq_list_table.loc[fastq_list_table.NAME==f'{RGSM}_fastq_list.csv',\"ID\"].item()"
   ]
  },
  {
   "cell_type": "code",
   "execution_count": 105,
   "id": "831a11ce-6e5c-41a3-9863-4063eec371ca",
   "metadata": {},
   "outputs": [],
   "source": [
    "#Get Relavent Fastq file IDs\n",
    "fastq_request = subprocess.run(f\"icav2 projectdata list --data-type FILE --match-mode FUZZY --file-name .fastq.gz --sort-by name\", shell = True, stdout=subprocess.PIPE)\n",
    "fastq_table = [x.split('\\t') for x in fastq_request.stdout.decode('utf-8').split('\\n')][1:-2]\n",
    "fastq_table = pd.DataFrame(fastq_table, columns=['NAME','TYPE','STATUS','ID','OWNING','PROJECT ID','PATH','Other'])\n",
    "fastq_table = fastq_table.loc[fastq_table.OWNING==target_project_NAME,]\n",
    "fastq_table.NAME = [x.rstrip() for x in fastq_table.NAME.to_list()]\n",
    "\n",
    "fastq_NAMEs = fastq_list.loc[fastq_list.RGSM==RGSM,\"Read1File\"].to_list() + fastq_list.loc[fastq_list.RGSM==RGSM,\"Read2File\"].to_list()\n",
    "fastq_IDs = fastq_table.loc[fastq_table.NAME.isin(fastq_NAMEs),\"ID\"].to_list()"
   ]
  },
  {
   "cell_type": "code",
   "execution_count": 106,
   "id": "f52d24bf-c53a-4992-9ea0-34c3b6220209",
   "metadata": {},
   "outputs": [
    {
     "name": "stdout",
     "output_type": "stream",
     "text": [
      "54404e49-232c-4e9e-bb8a-1b6902e73711\n",
      "85f42989-d886-4301-9430-9627be16c76a\n",
      "fol.9664f6d011df412fbaa908dcb1b64d4b\n",
      "fil.05c5aae95c6b456c366f08db3aac4879\n",
      "['fil.8fe1059d38844ae8d0f308dc661c8867', 'fil.743014896f29493cd0f508dc661c8867', 'fil.479b91e2b0674f15712308dc83987b7e', 'fil.90296bb9b6504ba0b9dc08dc7a0ebac2', 'fil.b2abcdcd6c474d1cd0f208dc661c8867', 'fil.c15a085bd7e54193d0f108dc661c8867', 'fil.3c0c7eda2fe54546d0f408dc661c8867', 'fil.ad090f594e7e4bfbd0f608dc661c8867']\n",
      "fil.d3d7a046cabe404d3a8b08dc85aebaa1\n"
     ]
    }
   ],
   "source": [
    "#Check IDs are non-empty\n",
    "print(target_pipeline_ID)\n",
    "print(target_project_ID)\n",
    "print(out_folder_ID)\n",
    "print(reference_ID)\n",
    "print(fastq_IDs)\n",
    "print(fastq_list_ID)"
   ]
  },
  {
   "cell_type": "code",
   "execution_count": 107,
   "id": "2bcd4a62-3305-4435-ba04-e569cb2fb26c",
   "metadata": {},
   "outputs": [
    {
     "name": "stdout",
     "output_type": "stream",
     "text": [
      "analysisPriority                      MEDIUM\n",
      "analysisStorage.description           2.4TB\n",
      "analysisStorage.id                    96b5a0a9-30d7-4bdb-b3f0-3113b095ef04\n",
      "analysisStorage.name                  Medium\n",
      "analysisStorage.ownerId               8ec463f6-1acb-341b-b321-043c39d8716a\n",
      "analysisStorage.tenantId              f91bb1a0-c55f-4bce-8014-b2e60c0ec7d3\n",
      "analysisStorage.tenantName            ica-cp-admin\n",
      "analysisStorage.timeCreated           2021-11-05T10:28:20Z\n",
      "analysisStorage.timeModified          2023-05-31T16:38:19Z\n",
      "id                                    e2b3d88d-38bf-4be0-ae5c-f770acb19a90\n",
      "ownerId                               0fc66a48-fa4a-376b-9399-c306a178bed9\n",
      "pipeline.analysisStorage.description  2.4TB\n",
      "pipeline.analysisStorage.id           96b5a0a9-30d7-4bdb-b3f0-3113b095ef04\n",
      "pipeline.analysisStorage.name         Medium\n",
      "pipeline.analysisStorage.ownerId      8ec463f6-1acb-341b-b321-043c39d8716a\n",
      "pipeline.analysisStorage.tenantId     f91bb1a0-c55f-4bce-8014-b2e60c0ec7d3\n",
      "pipeline.analysisStorage.tenantName   ica-cp-admin\n",
      "pipeline.analysisStorage.timeCreated  2021-11-05T10:28:20Z\n",
      "pipeline.analysisStorage.timeModified 2023-05-31T16:38:19Z\n",
      "pipeline.code                         DRAGEN Germline Whole Genome 4-2-4-v2\n",
      "pipeline.description                  The DRAGEN Germline WGS variant calling pipeline.\n",
      "pipeline.id                           54404e49-232c-4e9e-bb8a-1b6902e73711\n",
      "pipeline.language                     NEXTFLOW\n",
      "pipeline.languageVersion.id           b1585d18-f88c-4ca0-8d47-34f6c01eb6f3\n",
      "pipeline.languageVersion.language     NEXTFLOW\n",
      "pipeline.languageVersion.name         22.04.3\n",
      "pipeline.ownerId                      e9dd2ff5-c9ba-3293-857e-6546c5503d76\n",
      "pipeline.tenantId                     55cb0a54-efab-4584-85da-dc6a0197d4c4\n",
      "pipeline.tenantName                   ilmn-dragen\n",
      "pipeline.timeCreated                  2023-07-12T20:31:17Z\n",
      "pipeline.timeModified                 2023-07-12T23:51:56Z\n",
      "pipeline.urn                          urn:ilmn:ica:pipeline:54404e49-232c-4e9e-bb8a-1b6902e73711#DRAGEN_Germline_Whole_Genome_4-2-4-v2\n",
      "reference                             PK6_Fibro_CLI-DRAGEN Germline Whole Genome 4-2-4-v2-92f0d942-82ca-4d78-9454-ac088cd479ba\n",
      "status                                REQUESTED\n",
      "tenantId                              a6ee42be-a99b-469b-8b31-6c46ee879ee4\n",
      "tenantName                            kirik-asap-us\n",
      "timeCreated                           2024-08-08T06:11:44Z\n",
      "timeModified                          2024-08-08T06:11:44Z\n",
      "userReference                         PK6_Fibro_CLI\n"
     ]
    },
    {
     "data": {
      "text/plain": [
       "0"
      ]
     },
     "execution_count": 107,
     "metadata": {},
     "output_type": "execute_result"
    }
   ],
   "source": [
    "#Build run CMD line\n",
    "subprocess.call(['icav2','projectpipelines','start','nextflow',target_pipeline_ID,\n",
    "                 '--user-reference',run_name,\n",
    "                 '--project-id', target_project_ID,\n",
    "                 '--storage-size',storage_size,\n",
    "                 '--output-parent-folder',out_folder_ID,\n",
    "                 '--input',f'ref_tar:{reference_ID}',\n",
    "                 '--input',f'fastqs:{\",\".join(fastq_IDs)}',\n",
    "                 '--input',f'fastq_list:{fastq_list_ID}',\n",
    "                 '--parameters',f'enable_map_align:true',\n",
    "                 '--parameters',f'enable_map_align_output:true',\n",
    "                 '--parameters',f'enable_duplicate_marking:true',\n",
    "                 '--parameters',f'output_format:BAM',\n",
    "                 '--parameters',f'enable_variant_caller:true',\n",
    "                 '--parameters',f'vc_emit_ref_confidence:GVCF',\n",
    "                 '--parameters',f'vc_enable_vcf_output:true',\n",
    "                 '--parameters',f'enable_cnv:true',\n",
    "                 '--parameters',f'enable_sv:true',\n",
    "                 '--parameters',f'enable_gba:true',\n",
    "                 '--parameters',f'enable_variant_annotation:true',\n",
    "                 '--parameters',f'variant_annotation_assembly:GRCh38',\n",
    "                 '--parameters',f'additional_args:--enable-maf-output true --maf-transcript-source Refseq',\n",
    "                 '--parameters',f'enable_dragen_reports:true'\n",
    "                ])"
   ]
  },
  {
   "cell_type": "code",
   "execution_count": null,
   "id": "b217cb86-ff8e-4020-97e5-5264accb539c",
   "metadata": {},
   "outputs": [],
   "source": []
  }
 ],
 "metadata": {
  "kernelspec": {
   "display_name": "Python 3 (ipykernel)",
   "language": "python",
   "name": "python3"
  },
  "language_info": {
   "codemirror_mode": {
    "name": "ipython",
    "version": 3
   },
   "file_extension": ".py",
   "mimetype": "text/x-python",
   "name": "python",
   "nbconvert_exporter": "python",
   "pygments_lexer": "ipython3",
   "version": "3.12.2"
  }
 },
 "nbformat": 4,
 "nbformat_minor": 5
}
