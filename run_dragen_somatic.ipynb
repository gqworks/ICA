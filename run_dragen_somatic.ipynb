{
 "cells": [
  {
   "cell_type": "code",
   "execution_count": 1,
   "id": "5dc985da-02f2-45de-b58c-3aaa1587eb5f",
   "metadata": {},
   "outputs": [],
   "source": [
    "import os\n",
    "import subprocess\n",
    "import pandas as pd\n",
    "import numpy as np\n",
    "import re"
   ]
  },
  {
   "cell_type": "code",
   "execution_count": 260,
   "id": "3098a3a2-a9d8-4d5d-8401-a8b4c5c910fd",
   "metadata": {},
   "outputs": [],
   "source": [
    "# Initialise job parameters\n",
    "target_project_NAME = \"Second_Complete_data_RESTRICTED\"\n",
    "target_pipeline_CODE = \"DRAGEN Somatic Whole Genome 4-2-4-v2\" #Remains fixed for this script. Need to modify DRAGEN parameters if changed\n",
    "out_folder_NAME = 'somatic' #folder needs to exist prior to running\n",
    "fastq_list = pd.read_csv(\"all_fastqlist.csv\") #Need locate copy to map sample names to fastq file names on ICA\n",
    "normal_RGSM = \"KOLF2_Fibro\"\n",
    "tumour_RGSM = \"KOLF2-1_New_iPS_p5\"\n",
    "run_name = f\"{normal_RGSM}_vs_{tumour_RGSM}_w_TMB30\" #Can customise if needed\n",
    "storage_size = \"Medium\"\n",
    "output_prefix = \"KOLF2-1_New_iPS_p5\"\n",
    "sample_sex = \"auto\"\n",
    "enable_germline_on_normal = 'false'\n",
    "tmb_thresh = 30"
   ]
  },
  {
   "cell_type": "code",
   "execution_count": 261,
   "id": "f7f22637-d9d0-4f6f-acb5-ef76a015b092",
   "metadata": {},
   "outputs": [],
   "source": [
    "# Retreive project ID\n",
    "projects_request = subprocess.run(['icav2', 'projects', 'list'], stdout=subprocess.PIPE)\n",
    "project_table = [x.split('\\t') for x in projects_request.stdout.decode('utf-8').split('\\n')][1:-2] # Remove Messy Header and last 2 unnessecary rows\n",
    "project_table = pd.DataFrame(project_table, columns=['ID','NAME','OWNER','Other'])\n",
    "project_table.NAME = [x.rstrip() for x in project_table.NAME.to_list()]\n",
    "target_project_ID = project_table.loc[project_table.NAME==target_project_NAME,\"ID\"].item()\n",
    "\n",
    "# Retreive pipeline ID\n",
    "subprocess.call(['icav2','projects','enter',target_project_NAME])\n",
    "pipelines_request = subprocess.run(['icav2','projectpipelines','list'], stdout=subprocess.PIPE)\n",
    "pipeline_table = [x.split('\\t') for x in pipelines_request.stdout.decode('utf-8').split('\\n')][1:-2] # Remove Messy Header and last 2 unnessecary rows\n",
    "pipeline_table = pd.DataFrame(pipeline_table, columns=['ID','CODE','DESCRIPTION','Other'])\n",
    "target_pipeline_ID = pipeline_table.loc[pipeline_table.CODE.str.contains(target_pipeline_CODE),\"ID\"].item()\n",
    "\n",
    "# Retreive Fixed Reference genome ID\n",
    "reference_ID = \"fil.05c5aae95c6b456c366f08db3aac4879\" #Hg38 Alt-Maksed v3, Graph Enabled)\n",
    "\n",
    "# Retreive OUT folder ID\n",
    "out_folder_request = subprocess.run(f\"icav2 projectdata list --data-type FOLDER --file-name {out_folder_NAME}\", shell = True, stdout=subprocess.PIPE)\n",
    "out_folder_ID = [x.split('\\t') for x in out_folder_request.stdout.decode('utf-8').split('\\n')][1][3]"
   ]
  },
  {
   "cell_type": "code",
   "execution_count": 262,
   "id": "b83137d5-267e-4d41-94d9-3a4698f24940",
   "metadata": {},
   "outputs": [],
   "source": [
    "# Get Fastq list ID\n",
    "#fastq_list_NAME = 'all_fastqlist'\n",
    "#fastq_list_request = subprocess.run(f\"icav2 projectdata list --data-type FILE --match-mode FUZZY --file-name {fastq_list_NAME}\", shell = True, stdout=subprocess.PIPE)\n",
    "#fastq_list_ID = [x.split('\\t') for x in fastq_list_request.stdout.decode('utf-8').split('\\n')][1][3]"
   ]
  },
  {
   "cell_type": "code",
   "execution_count": 263,
   "id": "bd9ff446-03c2-47ef-9557-a8800625b03c",
   "metadata": {},
   "outputs": [],
   "source": [
    "# Get Fastq list ID\n",
    "fastq_list_request = subprocess.run(f\"icav2 projectdata list --data-type FILE --match-mode FUZZY --file-name fastq_list\", shell = True, stdout=subprocess.PIPE)\n",
    "fastq_list_table = [x.split('\\t') for x in fastq_list_request.stdout.decode('utf-8').split('\\n')][1:-2]\n",
    "fastq_list_table = pd.DataFrame(fastq_list_table, columns=['NAME','TYPE','STATUS','ID','OWNING','PROJECT ID','PATH','Other'])\n",
    "fastq_list_table = fastq_list_table.loc[fastq_list_table.OWNING==target_project_NAME,]\n",
    "fastq_list_table.NAME = [x.rstrip() for x in fastq_list_table.NAME.to_list()]\n",
    "normal_fastq_list_ID = fastq_list_table.loc[fastq_list_table.NAME==f'{normal_RGSM}_fastq_list.csv',\"ID\"].item()\n",
    "tumour_fastq_list_ID = fastq_list_table.loc[fastq_list_table.NAME==f'{tumour_RGSM}_fastq_list.csv',\"ID\"].item()"
   ]
  },
  {
   "cell_type": "code",
   "execution_count": 264,
   "id": "831a11ce-6e5c-41a3-9863-4063eec371ca",
   "metadata": {},
   "outputs": [],
   "source": [
    "#Get Relavent Fastq file IDs\n",
    "fastq_request = subprocess.run(f\"icav2 projectdata list --data-type FILE --match-mode FUZZY --file-name .fastq.gz --sort-by name\", shell = True, stdout=subprocess.PIPE)\n",
    "fastq_table = [x.split('\\t') for x in fastq_request.stdout.decode('utf-8').split('\\n')][1:-2]\n",
    "fastq_table = pd.DataFrame(fastq_table, columns=['NAME','TYPE','STATUS','ID','OWNING','PROJECT ID','PATH','Other'])\n",
    "fastq_table = fastq_table.loc[fastq_table.OWNING==target_project_NAME,]\n",
    "fastq_table.NAME = [x.rstrip() for x in fastq_table.NAME.to_list()]\n",
    "\n",
    "normal_fastq_NAMEs = fastq_list.loc[fastq_list.RGSM==normal_RGSM,\"Read1File\"].to_list() + fastq_list.loc[fastq_list.RGSM==normal_RGSM,\"Read2File\"].to_list()\n",
    "tumour_fastq_NAMEs = fastq_list.loc[fastq_list.RGSM==tumour_RGSM,\"Read1File\"].to_list() + fastq_list.loc[fastq_list.RGSM==tumour_RGSM,\"Read2File\"].to_list()\n",
    "normal_fastq_IDs = fastq_table.loc[fastq_table.NAME.isin(normal_fastq_NAMEs),\"ID\"].to_list()\n",
    "tumour_fastq_IDs = fastq_table.loc[fastq_table.NAME.isin(tumour_fastq_NAMEs),\"ID\"].to_list()"
   ]
  },
  {
   "cell_type": "code",
   "execution_count": 265,
   "id": "f52d24bf-c53a-4992-9ea0-34c3b6220209",
   "metadata": {},
   "outputs": [
    {
     "name": "stdout",
     "output_type": "stream",
     "text": [
      "c4314895-bcb9-49c3-997f-39d294d7d5b4\n",
      "85f42989-d886-4301-9430-9627be16c76a\n",
      "fol.f57f9ca46bb041c2b45208dc82039eee\n",
      "fil.05c5aae95c6b456c366f08db3aac4879\n",
      "['fil.a3ff7f6ff33c4dae76ba08dcaaf0c7b4', 'fil.67da79132bad43a3fc7508dcad1115ea']\n",
      "['fil.f6a340d2c213426d5d6408dc8062247e', 'fil.e8e4504664a340b05d6e08dc8062247e', 'fil.b87d14d563d945c65d7808dc8062247e', 'fil.e38cfb3d2a234caa5d8108dc8062247e', 'fil.b630da78c4d64e855d8908dc8062247e', 'fil.56ccd7162b514e635d9408dc8062247e', 'fil.fa2ee16627764c6c5d9d08dc8062247e', 'fil.5d146db8526649ab5da708dc8062247e']\n",
      "fil.9e9220ccbb4b44a1780908dcaaf0c7b4\n",
      "fil.0c74245dc13645d64edb08dc859845c0\n"
     ]
    }
   ],
   "source": [
    "#Check IDs are non-empty\n",
    "print(target_pipeline_ID)\n",
    "print(target_project_ID)\n",
    "print(out_folder_ID)\n",
    "print(reference_ID)\n",
    "print(normal_fastq_IDs)\n",
    "print(tumour_fastq_IDs)\n",
    "print(normal_fastq_list_ID)\n",
    "print(tumour_fastq_list_ID)"
   ]
  },
  {
   "cell_type": "code",
   "execution_count": 266,
   "id": "2bcd4a62-3305-4435-ba04-e569cb2fb26c",
   "metadata": {},
   "outputs": [
    {
     "name": "stdout",
     "output_type": "stream",
     "text": [
      "analysisPriority                      MEDIUM\n",
      "analysisStorage.description           2.4TB\n",
      "analysisStorage.id                    96b5a0a9-30d7-4bdb-b3f0-3113b095ef04\n",
      "analysisStorage.name                  Medium\n",
      "analysisStorage.ownerId               8ec463f6-1acb-341b-b321-043c39d8716a\n",
      "analysisStorage.tenantId              f91bb1a0-c55f-4bce-8014-b2e60c0ec7d3\n",
      "analysisStorage.tenantName            ica-cp-admin\n",
      "analysisStorage.timeCreated           2021-11-05T10:28:20Z\n",
      "analysisStorage.timeModified          2023-05-31T16:38:19Z\n",
      "id                                    d1fa7ff1-374e-4f2e-a4c9-2631f4b8d315\n",
      "ownerId                               0fc66a48-fa4a-376b-9399-c306a178bed9\n",
      "pipeline.analysisStorage.description  2.4TB\n",
      "pipeline.analysisStorage.id           96b5a0a9-30d7-4bdb-b3f0-3113b095ef04\n",
      "pipeline.analysisStorage.name         Medium\n",
      "pipeline.analysisStorage.ownerId      8ec463f6-1acb-341b-b321-043c39d8716a\n",
      "pipeline.analysisStorage.tenantId     f91bb1a0-c55f-4bce-8014-b2e60c0ec7d3\n",
      "pipeline.analysisStorage.tenantName   ica-cp-admin\n",
      "pipeline.analysisStorage.timeCreated  2021-11-05T10:28:20Z\n",
      "pipeline.analysisStorage.timeModified 2023-05-31T16:38:19Z\n",
      "pipeline.code                         DRAGEN Somatic Whole Genome 4-2-4-v2\n",
      "pipeline.description                  The DRAGEN Somatic WG pipeline identifies somatic variants which can exist at low allele frequencies in the tumor sample.\n",
      "pipeline.id                           c4314895-bcb9-49c3-997f-39d294d7d5b4\n",
      "pipeline.language                     NEXTFLOW\n",
      "pipeline.languageVersion.id           b1585d18-f88c-4ca0-8d47-34f6c01eb6f3\n",
      "pipeline.languageVersion.language     NEXTFLOW\n",
      "pipeline.languageVersion.name         22.04.3\n",
      "pipeline.ownerId                      e9dd2ff5-c9ba-3293-857e-6546c5503d76\n",
      "pipeline.tenantId                     55cb0a54-efab-4584-85da-dc6a0197d4c4\n",
      "pipeline.tenantName                   ilmn-dragen\n",
      "pipeline.timeCreated                  2023-07-12T20:31:20Z\n",
      "pipeline.timeModified                 2023-07-12T23:51:57Z\n",
      "pipeline.urn                          urn:ilmn:ica:pipeline:c4314895-bcb9-49c3-997f-39d294d7d5b4#DRAGEN_Somatic_Whole_Genome_4-2-4-v2\n",
      "reference                             KOLF2_Fibro_vs_KOLF2-1_New_iPS_p5_w_TMB30-DRAGEN Somatic Whole Genome 4-2-4-v2-bf4b176f-ecca-4e5b-a2d8-b33399a2bfeb\n",
      "status                                REQUESTED\n",
      "tenantId                              a6ee42be-a99b-469b-8b31-6c46ee879ee4\n",
      "tenantName                            kirik-asap-us\n",
      "timeCreated                           2024-07-31T23:35:55Z\n",
      "timeModified                          2024-07-31T23:35:55Z\n",
      "userReference                         KOLF2_Fibro_vs_KOLF2-1_New_iPS_p5_w_TMB30\n"
     ]
    },
    {
     "data": {
      "text/plain": [
       "0"
      ]
     },
     "execution_count": 266,
     "metadata": {},
     "output_type": "execute_result"
    }
   ],
   "source": [
    "#Build run CMD line\n",
    "subprocess.call(['icav2','projectpipelines','start','nextflow',target_pipeline_ID,\n",
    "                 '--user-reference',run_name,\n",
    "                 '--project-id', target_project_ID,\n",
    "                 '--storage-size',storage_size,\n",
    "                 '--output-parent-folder',out_folder_ID,\n",
    "                 '--input',f'ref_tar:{reference_ID}',\n",
    "                 '--input',f'normal_fastqs:{\",\".join(normal_fastq_IDs)}',\n",
    "                 '--input',f'tumor_fastqs:{\",\".join(tumour_fastq_IDs)}',\n",
    "                 '--input',f'normal_fastq_list:{normal_fastq_list_ID}',\n",
    "                 '--input',f'tumor_fastq_list:{tumour_fastq_list_ID}',\n",
    "                 #'--parameters',f'additional_args:\"--fastq-list-sample-id {normal_RGSM} --tumor-fastq-list-sample-id {tumour_RGSM}\"',\n",
    "                 '--parameters',f'output_file_prefix:{output_prefix}',\n",
    "                 '--parameters',f'sample_sex:{sample_sex}',\n",
    "                 '--parameters',f'enable_germline_vc_on_normal:{enable_germline_on_normal}',\n",
    "                 '--parameters',f'enable_dragen_reports:true',\n",
    "                 '--parameters',f'enable_map_align:true',\n",
    "                 '--parameters',f'enable_map_align_output:true',\n",
    "                 '--parameters',f'enable_duplicate_marking:true',\n",
    "                 '--parameters',f'output_format:BAM',\n",
    "                 '--parameters',f'enable_variant_caller:true',\n",
    "                 '--parameters',f'enable_cnv:true',\n",
    "                 '--parameters',f'cnv_use_somatic_vc_baf:true',\n",
    "                 '--parameters',f'enable_sv:true',\n",
    "                 '--parameters',f'enable_variant_annotation:true',\n",
    "                 '--parameters',f'variant_annotation_assembly:GRCh38',\n",
    "                 '--parameters',f'maf_transcript_source:ensembl',\n",
    "                 '--parameters',f'enable_tmb:true',\n",
    "                 '--parameters',f'additional_args:--vc-callability-tumor-thresh=\"{tmb_thresh}\"'\n",
    "                ])"
   ]
  },
  {
   "cell_type": "code",
   "execution_count": null,
   "id": "ea107253-7afc-4438-a30c-e198a68833a9",
   "metadata": {},
   "outputs": [],
   "source": []
  }
 ],
 "metadata": {
  "kernelspec": {
   "display_name": "Python 3 (ipykernel)",
   "language": "python",
   "name": "python3"
  },
  "language_info": {
   "codemirror_mode": {
    "name": "ipython",
    "version": 3
   },
   "file_extension": ".py",
   "mimetype": "text/x-python",
   "name": "python",
   "nbconvert_exporter": "python",
   "pygments_lexer": "ipython3",
   "version": "3.12.2"
  }
 },
 "nbformat": 4,
 "nbformat_minor": 5
}
